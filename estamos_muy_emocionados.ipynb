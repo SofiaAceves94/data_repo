{
 "cells": [
  {
   "cell_type": "code",
   "execution_count": null,
   "id": "precise-pattern",
   "metadata": {},
   "outputs": [],
   "source": [
    "print(\"estamos muy emocionados\")"
   ]
  }
 ],
 "metadata": {
  "kernelspec": {
   "display_name": "Python 3",
   "language": "python",
   "name": "python3"
  },
  "language_info": {
   "codemirror_mode": {
    "name": "ipython",
    "version": 3
   },
   "file_extension": ".py",
   "mimetype": "text/x-python",
   "name": "python",
   "nbconvert_exporter": "python",
   "pygments_lexer": "ipython3",
   "version": "3.9.2"
  }
 },
 "nbformat": 4,
 "nbformat_minor": 5
}
